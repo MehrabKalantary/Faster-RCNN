{
 "cells": [
  {
   "cell_type": "markdown",
   "id": "e9596605",
   "metadata": {
    "id": "e9596605"
   },
   "source": [
    "# Dataset Preprocessing\n",
    "Preprocessing images and bboxes before creating models."
   ]
  },
  {
   "cell_type": "code",
   "execution_count": 1,
   "id": "ad282834",
   "metadata": {
    "executionInfo": {
     "elapsed": 472,
     "status": "ok",
     "timestamp": 1715961935413,
     "user": {
      "displayName": "Mehrab Kalantari",
      "userId": "08869553901567356527"
     },
     "user_tz": -210
    },
    "id": "ad282834"
   },
   "outputs": [],
   "source": [
    "import warnings\n",
    "warnings.filterwarnings('ignore')\n",
    "import numpy as np\n",
    "import cv2\n",
    "from torchvision import transforms\n",
    "import os\n",
    "import matplotlib.pyplot as plt\n",
    "import matplotlib.patches as patches\n",
    "from PIL import Image\n",
    "import torchvision.transforms as T\n",
    "import pandas as pd\n",
    "from matplotlib import pyplot as plt\n",
    "from skimage.feature import hog\n",
    "import glob\n",
    "from skimage import exposure\n",
    "from PIL import Image, ImageDraw\n",
    "import csv\n",
    "import seaborn as sns\n",
    "import torch\n",
    "from torch.utils.data import Dataset, DataLoader\n",
    "from torchvision.io import read_image\n",
    "import torchvision\n",
    "from torchvision.ops import nms\n",
    "sns.set(font_scale=1.3)"
   ]
  },
  {
   "cell_type": "markdown",
   "id": "72a95841",
   "metadata": {
    "id": "72a95841"
   },
   "source": [
    "\n",
    "First, we define a preprocessor class to prepare data considering every image has 3 components: image, bounding box and label. For each image in both train and validation dataset there are 4 coordinates, a label and the image iteself."
   ]
  },
  {
   "cell_type": "code",
   "execution_count": 111,
   "id": "236d2e81",
   "metadata": {
    "id": "236d2e81"
   },
   "outputs": [],
   "source": [
    "class Preprocessor:\n",
    "    def __init__(self, relative_path='DATASET PATH CONTAINIG ALL IMAGES AND BOUNDING BOXES AND LABELS'):\n",
    "        self.current_path = os.getcwd().replace('\\\\', '/')\n",
    "        self.base_path = self.current_path + relative_path\n",
    "\n",
    "    def _get_filenames(self, directory, extension):\n",
    "        return [\n",
    "            self.base_path + directory + filename for filename in os.listdir(self.base_path + directory)\n",
    "            if filename.split(\".\")[1:] == extension.split('.')\n",
    "        ]\n",
    "\n",
    "    @staticmethod\n",
    "    def get_annotations_data(image_filenames, box_filenames):\n",
    "        annotations_data = []\n",
    "        for index, box_filename in enumerate(box_filenames):\n",
    "            with open(box_filename, 'r') as box_file:\n",
    "                box_data = box_file.read()\n",
    "                rows = box_data.split('\\n')\n",
    "                for i in range(0, len(rows) - 1):\n",
    "                    annotations_data.append(\n",
    "                        [image_filenames[index]] + [int(x) for x in rows[i].split('\\t')] + ['LABEL SHOULD BE HERE']\n",
    "                    )\n",
    "        return annotations_data\n",
    "\n",
    "    def save_csv_file(self, filename, data):\n",
    "        with open(self.current_path + '/' + filename, 'w', newline='') as csv_file:\n",
    "            wr = csv.writer(csv_file)\n",
    "            wr.writerows(data)\n",
    "\n",
    "    def get_train_data(self, directory='train/', image_extension='jpg', box_extension='bboxes.tsv'):\n",
    "        image_filenames = self._get_filenames(directory, image_extension)\n",
    "        box_filenames = self._get_filenames(directory, box_extension)\n",
    "        return image_filenames, box_filenames\n",
    "\n",
    "    def get_test_data(self, directory='validation/', image_extension='jpg', box_extension='bboxes.tsv'):\n",
    "        image_filenames = self._get_filenames(directory, image_extension)\n",
    "        box_filenames = self._get_filenames(directory, box_extension)\n",
    "        return image_filenames, box_filenames"
   ]
  },
  {
   "cell_type": "code",
   "execution_count": 112,
   "id": "867828b6",
   "metadata": {
    "id": "867828b6"
   },
   "outputs": [],
   "source": [
    "preprocessor = Preprocessor()"
   ]
  },
  {
   "cell_type": "markdown",
   "id": "b3723af4",
   "metadata": {
    "id": "b3723af4"
   },
   "source": [
    "Preparing train and test"
   ]
  },
  {
   "cell_type": "code",
   "execution_count": 113,
   "id": "7ebbeb79",
   "metadata": {
    "id": "7ebbeb79"
   },
   "outputs": [],
   "source": [
    "train_image_filenames, train_box_filenames = preprocessor.get_train_data()\n",
    "test_image_filenames, test_box_filenames = preprocessor.get_test_data()\n",
    "train_data = preprocessor.get_annotations_data(train_image_filenames, train_box_filenames)\n",
    "test_data = preprocessor.get_annotations_data(test_image_filenames, test_box_filenames)"
   ]
  },
  {
   "cell_type": "markdown",
   "id": "a7b84b54",
   "metadata": {
    "id": "a7b84b54"
   },
   "source": [
    "Creating 2 dataframes for train annotations, test annotations "
   ]
  },
  {
   "cell_type": "code",
   "execution_count": 114,
   "id": "d9820edf",
   "metadata": {
    "id": "d9820edf"
   },
   "outputs": [],
   "source": [
    "preprocessor.save_csv_file('train_annotations.csv', train_data)\n",
    "preprocessor.save_csv_file('validation_annotations.csv', test_data)"
   ]
  },
  {
   "cell_type": "markdown",
   "id": "17bcddee",
   "metadata": {
    "id": "17bcddee"
   },
   "source": [
    "Now for each image, we have a directory, x, y, w, h which are bounding box's features and the label"
   ]
  },
  {
   "cell_type": "code",
   "execution_count": null,
   "id": "55f7c438",
   "metadata": {},
   "outputs": [],
   "source": []
  }
 ],
 "metadata": {
  "accelerator": "GPU",
  "colab": {
   "gpuType": "T4",
   "provenance": []
  },
  "kernelspec": {
   "display_name": "Python 3 (ipykernel)",
   "language": "python",
   "name": "python3"
  },
  "language_info": {
   "codemirror_mode": {
    "name": "ipython",
    "version": 3
   },
   "file_extension": ".py",
   "mimetype": "text/x-python",
   "name": "python",
   "nbconvert_exporter": "python",
   "pygments_lexer": "ipython3",
   "version": "3.9.12"
  }
 },
 "nbformat": 4,
 "nbformat_minor": 5
}
